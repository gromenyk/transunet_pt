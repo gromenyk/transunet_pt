{
  "nbformat": 4,
  "nbformat_minor": 0,
  "metadata": {
    "colab": {
      "provenance": [],
      "gpuType": "T4"
    },
    "kernelspec": {
      "name": "python3",
      "display_name": "Python 3"
    },
    "language_info": {
      "name": "python"
    },
    "accelerator": "GPU"
  },
  "cells": [
    {
      "cell_type": "code",
      "source": [
        "!git clone https://github.com/gromenyk/transunet_pt.git"
      ],
      "metadata": {
        "id": "If3iaOgyLC7B"
      },
      "execution_count": null,
      "outputs": []
    },
    {
      "cell_type": "code",
      "source": [
        "!sudo apt-get update -y\n",
        "!sudo apt-get install python3.7"
      ],
      "metadata": {
        "id": "_StjTL1OkTKD"
      },
      "execution_count": null,
      "outputs": []
    },
    {
      "cell_type": "code",
      "source": [
        "!sudo update-alternatives --install /usr/bin/python3 python3 /usr/bin/python3.7 1\n",
        "!sudo apt-get install python3.7-distutils"
      ],
      "metadata": {
        "id": "2B7bCC15klUe"
      },
      "execution_count": null,
      "outputs": []
    },
    {
      "cell_type": "code",
      "source": [
        "!wget https://bootstrap.pypa.io/pip/3.7/get-pip.py"
      ],
      "metadata": {
        "id": "Tattqndgkp6_"
      },
      "execution_count": null,
      "outputs": []
    },
    {
      "cell_type": "code",
      "source": [
        "!python3.7 get-pip.py\n"
      ],
      "metadata": {
        "id": "0DG5vsm3k60d"
      },
      "execution_count": null,
      "outputs": []
    },
    {
      "cell_type": "code",
      "source": [
        "!pip install SimpleITK==2.1.0\n"
      ],
      "metadata": {
        "id": "20xyTufSlY2r"
      },
      "execution_count": null,
      "outputs": []
    },
    {
      "cell_type": "code",
      "source": [
        "!pip install -r '/content/transunet_pt/project_TransUNet/TransUNet/requirements.txt'"
      ],
      "metadata": {
        "id": "_djHbEfWlhJ-"
      },
      "execution_count": null,
      "outputs": []
    },
    {
      "cell_type": "code",
      "source": [
        "!python3 /content/transunet_pt/project_TransUNet/TransUNet/train.py"
      ],
      "metadata": {
        "id": "Ki4PrpyfqxOt"
      },
      "execution_count": null,
      "outputs": []
    }
  ]
}
